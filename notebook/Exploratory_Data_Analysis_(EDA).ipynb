{
  "nbformat": 4,
  "nbformat_minor": 0,
  "metadata": {
    "colab": {
      "provenance": []
    },
    "kernelspec": {
      "name": "python3",
      "display_name": "Python 3"
    },
    "language_info": {
      "name": "python"
    }
  },
  "cells": [
    {
      "cell_type": "markdown",
      "source": [
        "🧪 Exploratory Data Analysis (EDA)\n",
        "Notebook ini digunakan untuk menuliskan proses EDA (analisis deskriptif dan visualisasi data).\n",
        "\n",
        "Gunakan pandas dan matplotlib/seaborn\n",
        "Tampilkan statistik deskriptif\n",
        "Visualisasi distribusi, korelasi, outlier, dll."
      ],
      "metadata": {
        "id": "BGe03GS5p9Y9"
      }
    },
    {
      "cell_type": "code",
      "execution_count": null,
      "metadata": {
        "id": "wz9ZKjyDp3JG"
      },
      "outputs": [],
      "source": [
        "# Contoh import\n",
        "import pandas as pd\n",
        "import matplotlib.pyplot as plt\n",
        "import seaborn as sns"
      ]
    }
  ]
}