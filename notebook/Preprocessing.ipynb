{
  "nbformat": 4,
  "nbformat_minor": 0,
  "metadata": {
    "colab": {
      "provenance": []
    },
    "kernelspec": {
      "name": "python3",
      "display_name": "Python 3"
    },
    "language_info": {
      "name": "python"
    }
  },
  "cells": [
    {
      "cell_type": "markdown",
      "source": [
        "🧹 Preprocessing\n",
        "Notebook ini digunakan untuk preprocessing data sebelum pemodelan.\n",
        "\n",
        "Langkah yang disarankan:\n",
        "Load dataset\n",
        "Cek dan tangani missing value\n",
        "Encode variabel kategorikal\n",
        "Normalisasi atau standarisasi\n",
        "Simpan dataset bersih ke file baru (opsional)"
      ],
      "metadata": {
        "id": "VKSqKCjXqo1f"
      }
    },
    {
      "cell_type": "code",
      "execution_count": null,
      "metadata": {
        "id": "3JlPSQYMqnGN"
      },
      "outputs": [],
      "source": [
        "# Contoh import\n",
        "import pandas as pd\n",
        "from sklearn.preprocessing import LabelEncoder, StandardScaler\n",
        "import numpy as np\n",
        "\n",
        "# Load dataset\n",
        "# df = pd.read_csv('data/raw/online retail.xlsx')"
      ]
    }
  ]
}