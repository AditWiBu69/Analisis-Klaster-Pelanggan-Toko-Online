{
  "cells": [
    {
      "cell_type": "markdown",
      "metadata": {
        "id": "NR8pxhIGqeXH"
      },
      "source": [
        "🤖 Modeling\n",
        "\n",
        "Notebook ini digunakan untuk membangun dan mengevaluasi model Machine Learning/Data Mining.\n",
        "\n",
        "Langkah yang disarankan:\n",
        "Pisahkan data latih dan data uji\n",
        "Latih model (misalnya: Decision Tree, Random Forest, SVM, dll.)\n",
        "Evaluasi menggunakan metrik: accuracy, precision, recall, F1-score, ROC, confusion matrix"
      ]
    },
    {
      "cell_type": "code",
      "execution_count": null,
      "metadata": {
        "id": "2LeGb8KAqb2L"
      },
      "outputs": [],
      "source": [
        "\n",
        "# Contoh import\n",
        "from sklearn.model_selection import train_test_split\n",
        "from sklearn.ensemble import RandomForestClassifier\n",
        "from sklearn.metrics import classification_report, confusion_matrix\n",
        "\n",
        "# from sklearn.svm import SVC\n",
        "# from sklearn.linear_model import LogisticRegression\n",
        "# from sklearn.tree import DecisionTreeClassifier\n"
      ]
    }
  ],
  "metadata": {
    "colab": {
      "provenance": []
    },
    "kernelspec": {
      "display_name": "Python 3",
      "name": "python3"
    },
    "language_info": {
      "name": "python"
    }
  },
  "nbformat": 4,
  "nbformat_minor": 0
}
